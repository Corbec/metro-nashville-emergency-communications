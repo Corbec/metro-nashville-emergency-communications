{
 "cells": [
  {
   "cell_type": "markdown",
   "metadata": {},
   "source": [
    "New notebook to differentiate the EDA from further work."
   ]
  },
  {
   "cell_type": "code",
   "execution_count": 1,
   "metadata": {},
   "outputs": [],
   "source": [
    "from shapely.geometry import Point\n",
    "import pandas as pd\n",
    "import geopandas as gpd\n",
    "import matplotlib.pyplot as plt\n",
    "import folium\n",
    "from folium.plugins import MarkerCluster\n",
    "from folium.plugins import FastMarkerCluster"
   ]
  },
  {
   "cell_type": "markdown",
   "metadata": {},
   "source": [
    "Read in the csv files"
   ]
  },
  {
   "cell_type": "code",
   "execution_count": 2,
   "metadata": {},
   "outputs": [],
   "source": [
    "derecho_calls = pd.read_csv('../data/911_Phone Calls_Derecho_050320 050420.csv')\n",
    "derecho_computer = pd.read_csv('../data/Computer Aided Dispatch Data_Derecho Incidents 050320-050420.csv',\n",
    "                               skiprows = 3)\n",
    "tornado_calls = pd.read_csv('../data/911_Phone_Calls_Tornado_030320.csv')\n",
    "tornado_computer = pd.read_csv('../data/Computer Aided Dispatch Data_Tornado Incidents 030320.csv', skiprows = 3)"
   ]
  },
  {
   "cell_type": "markdown",
   "metadata": {},
   "source": [
    "Changing the column names for derecho calls."
   ]
  },
  {
   "cell_type": "code",
   "execution_count": 3,
   "metadata": {},
   "outputs": [
    {
     "data": {
      "text/html": [
       "<div>\n",
       "<style scoped>\n",
       "    .dataframe tbody tr th:only-of-type {\n",
       "        vertical-align: middle;\n",
       "    }\n",
       "\n",
       "    .dataframe tbody tr th {\n",
       "        vertical-align: top;\n",
       "    }\n",
       "\n",
       "    .dataframe thead th {\n",
       "        text-align: right;\n",
       "    }\n",
       "</style>\n",
       "<table border=\"1\" class=\"dataframe\">\n",
       "  <thead>\n",
       "    <tr style=\"text-align: right;\">\n",
       "      <th></th>\n",
       "      <th>Seizure DateTime</th>\n",
       "      <th>CallTypeId</th>\n",
       "      <th>lat</th>\n",
       "      <th>lng</th>\n",
       "      <th>tower</th>\n",
       "    </tr>\n",
       "  </thead>\n",
       "  <tbody>\n",
       "    <tr>\n",
       "      <th>0</th>\n",
       "      <td>5/3/2020 16:30</td>\n",
       "      <td>911 Calls</td>\n",
       "      <td>36.247802</td>\n",
       "      <td>-86.716847</td>\n",
       "      <td>WIRELESS CALLER</td>\n",
       "    </tr>\n",
       "    <tr>\n",
       "      <th>1</th>\n",
       "      <td>5/3/2020 16:30</td>\n",
       "      <td>911 Calls</td>\n",
       "      <td>36.143108</td>\n",
       "      <td>-86.800621</td>\n",
       "      <td>1161 21ST AV S - SE</td>\n",
       "    </tr>\n",
       "    <tr>\n",
       "      <th>2</th>\n",
       "      <td>5/3/2020 16:30</td>\n",
       "      <td>911 Calls</td>\n",
       "      <td>36.100516</td>\n",
       "      <td>-87.056329</td>\n",
       "      <td>8013 C MCCRORY LN - N</td>\n",
       "    </tr>\n",
       "    <tr>\n",
       "      <th>3</th>\n",
       "      <td>5/3/2020 16:30</td>\n",
       "      <td>911 Calls</td>\n",
       "      <td>36.130021</td>\n",
       "      <td>-86.927819</td>\n",
       "      <td>5758 RIVER RD - SW</td>\n",
       "    </tr>\n",
       "    <tr>\n",
       "      <th>4</th>\n",
       "      <td>5/3/2020 16:31</td>\n",
       "      <td>911 Calls</td>\n",
       "      <td>36.142380</td>\n",
       "      <td>-86.881882</td>\n",
       "      <td>3744B ANNEX AVE - SE</td>\n",
       "    </tr>\n",
       "  </tbody>\n",
       "</table>\n",
       "</div>"
      ],
      "text/plain": [
       "  Seizure DateTime CallTypeId        lat        lng                  tower\n",
       "0   5/3/2020 16:30  911 Calls  36.247802 -86.716847        WIRELESS CALLER\n",
       "1   5/3/2020 16:30  911 Calls  36.143108 -86.800621    1161 21ST AV S - SE\n",
       "2   5/3/2020 16:30  911 Calls  36.100516 -87.056329  8013 C MCCRORY LN - N\n",
       "3   5/3/2020 16:30  911 Calls  36.130021 -86.927819     5758 RIVER RD - SW\n",
       "4   5/3/2020 16:31  911 Calls  36.142380 -86.881882   3744B ANNEX AVE - SE"
      ]
     },
     "execution_count": 3,
     "metadata": {},
     "output_type": "execute_result"
    }
   ],
   "source": [
    "derecho_calls = derecho_calls.rename(columns = {'ALI Latitude' : 'lat',\n",
    "                                                'ALI Longitude' : 'lng', 'Cell Tower Address' : 'tower'})\n",
    "derecho_calls.head()"
   ]
  },
  {
   "cell_type": "code",
   "execution_count": 4,
   "metadata": {},
   "outputs": [
    {
     "name": "stdout",
     "output_type": "stream",
     "text": [
      "<class 'pandas.core.frame.DataFrame'>\n",
      "RangeIndex: 1549 entries, 0 to 1548\n",
      "Data columns (total 5 columns):\n",
      " #   Column            Non-Null Count  Dtype  \n",
      "---  ------            --------------  -----  \n",
      " 0   Seizure DateTime  1549 non-null   object \n",
      " 1   CallTypeId        1549 non-null   object \n",
      " 2   lat               1483 non-null   float64\n",
      " 3   lng               1483 non-null   float64\n",
      " 4   tower             1525 non-null   object \n",
      "dtypes: float64(2), object(3)\n",
      "memory usage: 60.6+ KB\n"
     ]
    }
   ],
   "source": [
    "derecho_calls.info()"
   ]
  },
  {
   "cell_type": "markdown",
   "metadata": {},
   "source": [
    "Converting Seizure DateTime datatype from object to datetime."
   ]
  },
  {
   "cell_type": "code",
   "execution_count": 47,
   "metadata": {},
   "outputs": [
    {
     "name": "stdout",
     "output_type": "stream",
     "text": [
      "<class 'pandas.core.frame.DataFrame'>\n",
      "RangeIndex: 1549 entries, 0 to 1548\n",
      "Data columns (total 7 columns):\n",
      " #   Column             Non-Null Count  Dtype         \n",
      "---  ------             --------------  -----         \n",
      " 0   Seizure DateTime   1549 non-null   object        \n",
      " 1   CallTypeId         1549 non-null   object        \n",
      " 2   lat                1483 non-null   float64       \n",
      " 3   lng                1483 non-null   float64       \n",
      " 4   tower              1525 non-null   object        \n",
      " 5   Seizure DateTime2  1549 non-null   datetime64[ns]\n",
      " 6   Time               1549 non-null   object        \n",
      "dtypes: datetime64[ns](1), float64(2), object(4)\n",
      "memory usage: 84.8+ KB\n"
     ]
    }
   ],
   "source": [
    "derecho_calls['Seizure DateTime2'] = pd.to_datetime(derecho_calls['Seizure DateTime'])\n",
    "derecho_calls['Time'] = derecho_calls['Seizure DateTime2'].apply( lambda d : d.time())\n",
    "#assert derecho_calls['Seizure DateTime2'].dtype == 'datetime64[ns]'\n",
    "#derecho_calls['Time'].astype('datetime64')\n",
    "derecho_calls.head(2)\n",
    "derecho_calls.info()"
   ]
  },
  {
   "cell_type": "markdown",
   "metadata": {},
   "source": [
    "Plotting derecho_calls to establish the end of the initial event and where late calls begin."
   ]
  },
  {
   "cell_type": "code",
   "execution_count": 58,
   "metadata": {},
   "outputs": [
    {
     "name": "stderr",
     "output_type": "stream",
     "text": [
      "<ipython-input-58-58bc8ebb0f8c>:7: UserWarning: FixedFormatter should only be used together with FixedLocator\n",
      "  ax.set_xticklabels(['1700', '1800', '1900', '2000', '2100', '2200', '2300', '0000']);\n"
     ]
    },
    {
     "data": {
      "image/png": "[encoded data removed]",
      "text/plain": [
       "<Figure size 1080x432 with 1 Axes>"
      ]
     },
     "metadata": {
      "needs_background": "light"
     },
     "output_type": "display_data"
    }
   ],
   "source": [
    "fig, ax = plt.subplots(figsize = (15, 6))\n",
    "#plt.figure(figsize = (15, 6))\n",
    "ax.hist(derecho_calls['Seizure DateTime2'], bins = 50, color = 'orange')\n",
    "ax.set_ylabel('Number of Calls')\n",
    "ax.set_xlabel('Time')\n",
    "ax.set_title('Calls During Derecho')\n",
    "ax.set_xticklabels(['1700', '1800', '1900', '2000', '2100', '2200', '2300', '0000']);\n",
    "#ticks = ['1700', '1800', '1900', '2000', '2100', '2200', '2300', '0000']\n",
    "#plt.xticks(ticks = [0, 1, 2, 3, 4, 5, 6, 7], labels = ticks);"
   ]
  },
  {
   "cell_type": "markdown",
   "metadata": {},
   "source": [
    "It appears that the late calls begin to increase slightly after 8 pm."
   ]
  },
  {
   "cell_type": "markdown",
   "metadata": {},
   "source": [
    "Subsetting the derecho_calls DataFrame by Seizure DateTime2 for all calls on or after 8 pm."
   ]
  },
  {
   "cell_type": "code",
   "execution_count": 7,
   "metadata": {},
   "outputs": [
    {
     "data": {
      "text/html": [
       "<div>\n",
       "<style scoped>\n",
       "    .dataframe tbody tr th:only-of-type {\n",
       "        vertical-align: middle;\n",
       "    }\n",
       "\n",
       "    .dataframe tbody tr th {\n",
       "        vertical-align: top;\n",
       "    }\n",
       "\n",
       "    .dataframe thead th {\n",
       "        text-align: right;\n",
       "    }\n",
       "</style>\n",
       "<table border=\"1\" class=\"dataframe\">\n",
       "  <thead>\n",
       "    <tr style=\"text-align: right;\">\n",
       "      <th></th>\n",
       "      <th>Seizure DateTime</th>\n",
       "      <th>CallTypeId</th>\n",
       "      <th>lat</th>\n",
       "      <th>lng</th>\n",
       "      <th>tower</th>\n",
       "      <th>Seizure DateTime2</th>\n",
       "      <th>Time</th>\n",
       "    </tr>\n",
       "  </thead>\n",
       "  <tbody>\n",
       "    <tr>\n",
       "      <th>1042</th>\n",
       "      <td>5/3/2020 20:00</td>\n",
       "      <td>911 Calls</td>\n",
       "      <td>36.151339</td>\n",
       "      <td>-86.872737</td>\n",
       "      <td>WIRELESS CALLER</td>\n",
       "      <td>2020-05-03 20:00:00</td>\n",
       "      <td>20:00:00</td>\n",
       "    </tr>\n",
       "    <tr>\n",
       "      <th>1043</th>\n",
       "      <td>5/3/2020 20:00</td>\n",
       "      <td>911 Calls</td>\n",
       "      <td>36.049168</td>\n",
       "      <td>-86.690798</td>\n",
       "      <td>WIRELESS CALLER</td>\n",
       "      <td>2020-05-03 20:00:00</td>\n",
       "      <td>20:00:00</td>\n",
       "    </tr>\n",
       "  </tbody>\n",
       "</table>\n",
       "</div>"
      ],
      "text/plain": [
       "     Seizure DateTime CallTypeId        lat        lng            tower  \\\n",
       "1042   5/3/2020 20:00  911 Calls  36.151339 -86.872737  WIRELESS CALLER   \n",
       "1043   5/3/2020 20:00  911 Calls  36.049168 -86.690798  WIRELESS CALLER   \n",
       "\n",
       "       Seizure DateTime2      Time  \n",
       "1042 2020-05-03 20:00:00  20:00:00  \n",
       "1043 2020-05-03 20:00:00  20:00:00  "
      ]
     },
     "execution_count": 7,
     "metadata": {},
     "output_type": "execute_result"
    }
   ],
   "source": [
    "derecho_sw = derecho_calls[derecho_calls['Seizure DateTime2'] >= '2020-05-03 20:00:00']\n",
    "derecho_sw.head(2)"
   ]
  },
  {
   "cell_type": "code",
   "execution_count": 8,
   "metadata": {},
   "outputs": [
    {
     "name": "stdout",
     "output_type": "stream",
     "text": [
      "<class 'pandas.core.frame.DataFrame'>\n",
      "Int64Index: 507 entries, 1042 to 1548\n",
      "Data columns (total 7 columns):\n",
      " #   Column             Non-Null Count  Dtype         \n",
      "---  ------             --------------  -----         \n",
      " 0   Seizure DateTime   507 non-null    object        \n",
      " 1   CallTypeId         507 non-null    object        \n",
      " 2   lat                494 non-null    float64       \n",
      " 3   lng                494 non-null    float64       \n",
      " 4   tower              507 non-null    object        \n",
      " 5   Seizure DateTime2  507 non-null    datetime64[ns]\n",
      " 6   Time               507 non-null    object        \n",
      "dtypes: datetime64[ns](1), float64(2), object(4)\n",
      "memory usage: 31.7+ KB\n"
     ]
    }
   ],
   "source": [
    "derecho_sw.info()"
   ]
  },
  {
   "cell_type": "markdown",
   "metadata": {},
   "source": [
    "Renaming tornado_calls columns."
   ]
  },
  {
   "cell_type": "code",
   "execution_count": 9,
   "metadata": {},
   "outputs": [
    {
     "data": {
      "text/html": [
       "<div>\n",
       "<style scoped>\n",
       "    .dataframe tbody tr th:only-of-type {\n",
       "        vertical-align: middle;\n",
       "    }\n",
       "\n",
       "    .dataframe tbody tr th {\n",
       "        vertical-align: top;\n",
       "    }\n",
       "\n",
       "    .dataframe thead th {\n",
       "        text-align: right;\n",
       "    }\n",
       "</style>\n",
       "<table border=\"1\" class=\"dataframe\">\n",
       "  <thead>\n",
       "    <tr style=\"text-align: right;\">\n",
       "      <th></th>\n",
       "      <th>Seizure DateTime</th>\n",
       "      <th>CallTypeId</th>\n",
       "      <th>lat</th>\n",
       "      <th>lng</th>\n",
       "      <th>tower</th>\n",
       "    </tr>\n",
       "  </thead>\n",
       "  <tbody>\n",
       "    <tr>\n",
       "      <th>0</th>\n",
       "      <td>3/3/2020 0:34</td>\n",
       "      <td>911 Calls</td>\n",
       "      <td>36.072708</td>\n",
       "      <td>-86.665779</td>\n",
       "      <td>620 Richards RD - N Sector</td>\n",
       "    </tr>\n",
       "    <tr>\n",
       "      <th>1</th>\n",
       "      <td>3/3/2020 0:36</td>\n",
       "      <td>911 Calls</td>\n",
       "      <td>36.159634</td>\n",
       "      <td>-86.841904</td>\n",
       "      <td>4507D KENTUCKY AV - SE</td>\n",
       "    </tr>\n",
       "  </tbody>\n",
       "</table>\n",
       "</div>"
      ],
      "text/plain": [
       "  Seizure DateTime CallTypeId        lat        lng  \\\n",
       "0    3/3/2020 0:34  911 Calls  36.072708 -86.665779   \n",
       "1    3/3/2020 0:36  911 Calls  36.159634 -86.841904   \n",
       "\n",
       "                        tower  \n",
       "0  620 Richards RD - N Sector  \n",
       "1      4507D KENTUCKY AV - SE  "
      ]
     },
     "execution_count": 9,
     "metadata": {},
     "output_type": "execute_result"
    }
   ],
   "source": [
    "tornado_calls = tornado_calls.rename(columns = {'ALI Latitude' : 'lat', \n",
    "                                                'ALI Longitude': 'lng', 'Cell Tower Address' : 'tower'})\n",
    "tornado_calls.head(2)"
   ]
  },
  {
   "cell_type": "code",
   "execution_count": 10,
   "metadata": {},
   "outputs": [
    {
     "name": "stdout",
     "output_type": "stream",
     "text": [
      "<class 'pandas.core.frame.DataFrame'>\n",
      "RangeIndex: 475 entries, 0 to 474\n",
      "Data columns (total 5 columns):\n",
      " #   Column            Non-Null Count  Dtype  \n",
      "---  ------            --------------  -----  \n",
      " 0   Seizure DateTime  475 non-null    object \n",
      " 1   CallTypeId        475 non-null    object \n",
      " 2   lat               450 non-null    float64\n",
      " 3   lng               450 non-null    float64\n",
      " 4   tower             468 non-null    object \n",
      "dtypes: float64(2), object(3)\n",
      "memory usage: 18.7+ KB\n"
     ]
    }
   ],
   "source": [
    "tornado_calls.info()"
   ]
  },
  {
   "cell_type": "markdown",
   "metadata": {},
   "source": [
    "Converting Seizure DateTime datatype to datetime."
   ]
  },
  {
   "cell_type": "code",
   "execution_count": 11,
   "metadata": {},
   "outputs": [
    {
     "data": {
      "text/html": [
       "<div>\n",
       "<style scoped>\n",
       "    .dataframe tbody tr th:only-of-type {\n",
       "        vertical-align: middle;\n",
       "    }\n",
       "\n",
       "    .dataframe tbody tr th {\n",
       "        vertical-align: top;\n",
       "    }\n",
       "\n",
       "    .dataframe thead th {\n",
       "        text-align: right;\n",
       "    }\n",
       "</style>\n",
       "<table border=\"1\" class=\"dataframe\">\n",
       "  <thead>\n",
       "    <tr style=\"text-align: right;\">\n",
       "      <th></th>\n",
       "      <th>Seizure DateTime</th>\n",
       "      <th>CallTypeId</th>\n",
       "      <th>lat</th>\n",
       "      <th>lng</th>\n",
       "      <th>tower</th>\n",
       "      <th>Seizure DateTime2</th>\n",
       "    </tr>\n",
       "  </thead>\n",
       "  <tbody>\n",
       "    <tr>\n",
       "      <th>0</th>\n",
       "      <td>3/3/2020 0:34</td>\n",
       "      <td>911 Calls</td>\n",
       "      <td>36.072708</td>\n",
       "      <td>-86.665779</td>\n",
       "      <td>620 Richards RD - N Sector</td>\n",
       "      <td>2020-03-03 00:34:00</td>\n",
       "    </tr>\n",
       "    <tr>\n",
       "      <th>1</th>\n",
       "      <td>3/3/2020 0:36</td>\n",
       "      <td>911 Calls</td>\n",
       "      <td>36.159634</td>\n",
       "      <td>-86.841904</td>\n",
       "      <td>4507D KENTUCKY AV - SE</td>\n",
       "      <td>2020-03-03 00:36:00</td>\n",
       "    </tr>\n",
       "  </tbody>\n",
       "</table>\n",
       "</div>"
      ],
      "text/plain": [
       "  Seizure DateTime CallTypeId        lat        lng  \\\n",
       "0    3/3/2020 0:34  911 Calls  36.072708 -86.665779   \n",
       "1    3/3/2020 0:36  911 Calls  36.159634 -86.841904   \n",
       "\n",
       "                        tower   Seizure DateTime2  \n",
       "0  620 Richards RD - N Sector 2020-03-03 00:34:00  \n",
       "1      4507D KENTUCKY AV - SE 2020-03-03 00:36:00  "
      ]
     },
     "execution_count": 11,
     "metadata": {},
     "output_type": "execute_result"
    }
   ],
   "source": [
    "tornado_calls['Seizure DateTime2'] = pd.to_datetime(tornado_calls['Seizure DateTime'])\n",
    "assert tornado_calls['Seizure DateTime2'].dtype == 'datetime64[ns]'\n",
    "tornado_calls.head(2)"
   ]
  },
  {
   "cell_type": "markdown",
   "metadata": {},
   "source": [
    "Plotting tornado_calls to see if there is a time to establish the start of late calls."
   ]
  },
  {
   "cell_type": "code",
   "execution_count": 61,
   "metadata": {},
   "outputs": [
    {
     "name": "stderr",
     "output_type": "stream",
     "text": [
      "<ipython-input-61-37f149a2126c>:7: UserWarning: FixedFormatter should only be used together with FixedLocator\n",
      "  ax.set_xticklabels(['0030', '0100', '0130', '0200', '0230', '0300', '0330', '0400', '0430', '0500']);\n"
     ]
    },
    {
     "data": {
      "image/png": "[encoded data removed]",
      "text/plain": [
       "<Figure size 1080x432 with 1 Axes>"
      ]
     },
     "metadata": {
      "needs_background": "light"
     },
     "output_type": "display_data"
    }
   ],
   "source": [
    "fig, ax = plt.subplots(figsize = (15, 6))\n",
    "#plt.figure(figsize = (15, 6))\n",
    "ax.hist(tornado_calls['Seizure DateTime2'], bins = 35, color = 'orange')\n",
    "ax.set_ylabel('Number of Calls')\n",
    "ax.set_xlabel('Time')\n",
    "ax.set_title('Calls During Tornado')\n",
    "ax.set_xticklabels(['0030', '0100', '0130', '0200', '0230', '0300', '0330', '0400', '0430', '0500']);\n",
    "\n",
    "\n",
    "\n",
    "# plt.figure(figsize = (15, 6))\n",
    "# plt.hist(tornado_calls['Seizure DateTime2'], bins = 35, color = 'orange')\n",
    "# plt.ylabel('Number of Calls')\n",
    "# plt.xlabel('Date and Time')\n",
    "# plt.title('Calls During Tornado');"
   ]
  },
  {
   "cell_type": "markdown",
   "metadata": {},
   "source": [
    "It appears that the late calls begin around 2 am."
   ]
  },
  {
   "cell_type": "markdown",
   "metadata": {},
   "source": [
    "Subsetting tornado_calls by Seizure DateTime2 for all calls on or after 2 am."
   ]
  },
  {
   "cell_type": "code",
   "execution_count": 13,
   "metadata": {},
   "outputs": [
    {
     "data": {
      "text/html": [
       "<div>\n",
       "<style scoped>\n",
       "    .dataframe tbody tr th:only-of-type {\n",
       "        vertical-align: middle;\n",
       "    }\n",
       "\n",
       "    .dataframe tbody tr th {\n",
       "        vertical-align: top;\n",
       "    }\n",
       "\n",
       "    .dataframe thead th {\n",
       "        text-align: right;\n",
       "    }\n",
       "</style>\n",
       "<table border=\"1\" class=\"dataframe\">\n",
       "  <thead>\n",
       "    <tr style=\"text-align: right;\">\n",
       "      <th></th>\n",
       "      <th>Seizure DateTime</th>\n",
       "      <th>CallTypeId</th>\n",
       "      <th>lat</th>\n",
       "      <th>lng</th>\n",
       "      <th>tower</th>\n",
       "      <th>Seizure DateTime2</th>\n",
       "    </tr>\n",
       "  </thead>\n",
       "  <tbody>\n",
       "    <tr>\n",
       "      <th>292</th>\n",
       "      <td>3/3/2020 2:00</td>\n",
       "      <td>911 Calls</td>\n",
       "      <td>36.154633</td>\n",
       "      <td>-86.78450</td>\n",
       "      <td>PRELIM 1033 DEMONBREUN ST - SE Sector</td>\n",
       "      <td>2020-03-03 02:00:00</td>\n",
       "    </tr>\n",
       "    <tr>\n",
       "      <th>293</th>\n",
       "      <td>3/3/2020 2:00</td>\n",
       "      <td>911 Calls</td>\n",
       "      <td>36.182045</td>\n",
       "      <td>-86.74927</td>\n",
       "      <td>WIRELESS CALLER</td>\n",
       "      <td>2020-03-03 02:00:00</td>\n",
       "    </tr>\n",
       "  </tbody>\n",
       "</table>\n",
       "</div>"
      ],
      "text/plain": [
       "    Seizure DateTime CallTypeId        lat       lng  \\\n",
       "292    3/3/2020 2:00  911 Calls  36.154633 -86.78450   \n",
       "293    3/3/2020 2:00  911 Calls  36.182045 -86.74927   \n",
       "\n",
       "                                     tower   Seizure DateTime2  \n",
       "292  PRELIM 1033 DEMONBREUN ST - SE Sector 2020-03-03 02:00:00  \n",
       "293                        WIRELESS CALLER 2020-03-03 02:00:00  "
      ]
     },
     "execution_count": 13,
     "metadata": {},
     "output_type": "execute_result"
    }
   ],
   "source": [
    "tornado_sw = tornado_calls[tornado_calls['Seizure DateTime2'] >= '2020-03-03 02:00:00']\n",
    "tornado_sw.head(2)"
   ]
  },
  {
   "cell_type": "code",
   "execution_count": 14,
   "metadata": {},
   "outputs": [
    {
     "name": "stdout",
     "output_type": "stream",
     "text": [
      "<class 'pandas.core.frame.DataFrame'>\n",
      "Int64Index: 183 entries, 292 to 474\n",
      "Data columns (total 6 columns):\n",
      " #   Column             Non-Null Count  Dtype         \n",
      "---  ------             --------------  -----         \n",
      " 0   Seizure DateTime   183 non-null    object        \n",
      " 1   CallTypeId         183 non-null    object        \n",
      " 2   lat                170 non-null    float64       \n",
      " 3   lng                170 non-null    float64       \n",
      " 4   tower              183 non-null    object        \n",
      " 5   Seizure DateTime2  183 non-null    datetime64[ns]\n",
      "dtypes: datetime64[ns](1), float64(2), object(3)\n",
      "memory usage: 10.0+ KB\n"
     ]
    }
   ],
   "source": [
    "tornado_sw.info()"
   ]
  },
  {
   "cell_type": "code",
   "execution_count": 15,
   "metadata": {},
   "outputs": [
    {
     "name": "stdout",
     "output_type": "stream",
     "text": [
      "(56, 3)\n",
      "epsg:4326\n"
     ]
    },
    {
     "data": {
      "text/html": [
       "<div>\n",
       "<style scoped>\n",
       "    .dataframe tbody tr th:only-of-type {\n",
       "        vertical-align: middle;\n",
       "    }\n",
       "\n",
       "    .dataframe tbody tr th {\n",
       "        vertical-align: top;\n",
       "    }\n",
       "\n",
       "    .dataframe thead th {\n",
       "        text-align: right;\n",
       "    }\n",
       "</style>\n",
       "<table border=\"1\" class=\"dataframe\">\n",
       "  <thead>\n",
       "    <tr style=\"text-align: right;\">\n",
       "      <th></th>\n",
       "      <th>zip</th>\n",
       "      <th>po_name</th>\n",
       "      <th>geometry</th>\n",
       "    </tr>\n",
       "  </thead>\n",
       "  <tbody>\n",
       "    <tr>\n",
       "      <th>0</th>\n",
       "      <td>37115</td>\n",
       "      <td>MADISON</td>\n",
       "      <td>MULTIPOLYGON (((-86.68725 36.31821, -86.68722 ...</td>\n",
       "    </tr>\n",
       "    <tr>\n",
       "      <th>1</th>\n",
       "      <td>37216</td>\n",
       "      <td>NASHVILLE</td>\n",
       "      <td>MULTIPOLYGON (((-86.73451 36.23774, -86.73425 ...</td>\n",
       "    </tr>\n",
       "    <tr>\n",
       "      <th>2</th>\n",
       "      <td>37204</td>\n",
       "      <td>NASHVILLE</td>\n",
       "      <td>MULTIPOLYGON (((-86.77914 36.13424, -86.77923 ...</td>\n",
       "    </tr>\n",
       "    <tr>\n",
       "      <th>3</th>\n",
       "      <td>37027</td>\n",
       "      <td>BRENTWOOD</td>\n",
       "      <td>MULTIPOLYGON (((-86.81258 36.06319, -86.81263 ...</td>\n",
       "    </tr>\n",
       "    <tr>\n",
       "      <th>4</th>\n",
       "      <td>37064</td>\n",
       "      <td>FRANKLIN</td>\n",
       "      <td>MULTIPOLYGON (((-87.02197 36.01200, -87.02140 ...</td>\n",
       "    </tr>\n",
       "  </tbody>\n",
       "</table>\n",
       "</div>"
      ],
      "text/plain": [
       "     zip    po_name                                           geometry\n",
       "0  37115    MADISON  MULTIPOLYGON (((-86.68725 36.31821, -86.68722 ...\n",
       "1  37216  NASHVILLE  MULTIPOLYGON (((-86.73451 36.23774, -86.73425 ...\n",
       "2  37204  NASHVILLE  MULTIPOLYGON (((-86.77914 36.13424, -86.77923 ...\n",
       "3  37027  BRENTWOOD  MULTIPOLYGON (((-86.81258 36.06319, -86.81263 ...\n",
       "4  37064   FRANKLIN  MULTIPOLYGON (((-87.02197 36.01200, -87.02140 ..."
      ]
     },
     "execution_count": 15,
     "metadata": {},
     "output_type": "execute_result"
    }
   ],
   "source": [
    "# Pull in zipcodes to add zip column to dataframes\n",
    "zipcodes = gpd.read_file('../data/zipcodes.geojson')\n",
    "zipcodes = zipcodes [['zip', 'po_name', 'geometry']]\n",
    "print(zipcodes.shape)\n",
    "print(zipcodes.crs)\n",
    "zipcodes.head( )"
   ]
  },
  {
   "cell_type": "code",
   "execution_count": 16,
   "metadata": {},
   "outputs": [],
   "source": [
    "# Convert IncidentDate to datetime datatype.\n",
    "tornado_computer['IncidentDate'] = pd.to_datetime(tornado_computer['IncidentDate'])"
   ]
  },
  {
   "cell_type": "code",
   "execution_count": 17,
   "metadata": {},
   "outputs": [
    {
     "data": {
      "text/html": [
       "<div>\n",
       "<style scoped>\n",
       "    .dataframe tbody tr th:only-of-type {\n",
       "        vertical-align: middle;\n",
       "    }\n",
       "\n",
       "    .dataframe tbody tr th {\n",
       "        vertical-align: top;\n",
       "    }\n",
       "\n",
       "    .dataframe thead th {\n",
       "        text-align: right;\n",
       "    }\n",
       "</style>\n",
       "<table border=\"1\" class=\"dataframe\">\n",
       "  <thead>\n",
       "    <tr style=\"text-align: right;\">\n",
       "      <th></th>\n",
       "      <th>IncidentDate</th>\n",
       "      <th>Location</th>\n",
       "      <th>Latitude1</th>\n",
       "      <th>Longitude1</th>\n",
       "      <th>IncidentTypeDescription1</th>\n",
       "    </tr>\n",
       "  </thead>\n",
       "  <tbody>\n",
       "    <tr>\n",
       "      <th>129</th>\n",
       "      <td>2020-03-03 02:01:33</td>\n",
       "      <td>1421 WOODLAND ST</td>\n",
       "      <td>36.177240</td>\n",
       "      <td>-86.743885</td>\n",
       "      <td>SMOKE DETECTOR ALARM HOUSE</td>\n",
       "    </tr>\n",
       "    <tr>\n",
       "      <th>130</th>\n",
       "      <td>2020-03-03 02:01:52</td>\n",
       "      <td>2658 BARCLAY DR</td>\n",
       "      <td>36.174243</td>\n",
       "      <td>-86.719824</td>\n",
       "      <td>GENERAL ALARM COMMERCIAL   INDUSTRIAL BUILD</td>\n",
       "    </tr>\n",
       "    <tr>\n",
       "      <th>131</th>\n",
       "      <td>2020-03-03 02:02:32</td>\n",
       "      <td>S 9TH ST / MAIN ST</td>\n",
       "      <td>36.175964</td>\n",
       "      <td>-86.757246</td>\n",
       "      <td>OUTSIDE NATURAL GAS ODOR COMMERCIAL LINE TANK ...</td>\n",
       "    </tr>\n",
       "    <tr>\n",
       "      <th>132</th>\n",
       "      <td>2020-03-03 02:03:06</td>\n",
       "      <td>111 EVANDER ST</td>\n",
       "      <td>36.175976</td>\n",
       "      <td>-86.740844</td>\n",
       "      <td>OUTSIDE ODOR</td>\n",
       "    </tr>\n",
       "    <tr>\n",
       "      <th>133</th>\n",
       "      <td>2020-03-03 02:04:00</td>\n",
       "      <td>938 W EASTLAND AV</td>\n",
       "      <td>36.184138</td>\n",
       "      <td>-86.754363</td>\n",
       "      <td>OUTSIDE ODOR</td>\n",
       "    </tr>\n",
       "  </tbody>\n",
       "</table>\n",
       "</div>"
      ],
      "text/plain": [
       "           IncidentDate            Location  Latitude1  Longitude1  \\\n",
       "129 2020-03-03 02:01:33    1421 WOODLAND ST  36.177240  -86.743885   \n",
       "130 2020-03-03 02:01:52     2658 BARCLAY DR  36.174243  -86.719824   \n",
       "131 2020-03-03 02:02:32  S 9TH ST / MAIN ST  36.175964  -86.757246   \n",
       "132 2020-03-03 02:03:06      111 EVANDER ST  36.175976  -86.740844   \n",
       "133 2020-03-03 02:04:00   938 W EASTLAND AV  36.184138  -86.754363   \n",
       "\n",
       "                              IncidentTypeDescription1  \n",
       "129                         SMOKE DETECTOR ALARM HOUSE  \n",
       "130        GENERAL ALARM COMMERCIAL   INDUSTRIAL BUILD  \n",
       "131  OUTSIDE NATURAL GAS ODOR COMMERCIAL LINE TANK ...  \n",
       "132                                       OUTSIDE ODOR  \n",
       "133                                       OUTSIDE ODOR  "
      ]
     },
     "execution_count": 17,
     "metadata": {},
     "output_type": "execute_result"
    }
   ],
   "source": [
    "# Slice the dataframe by the late calls cutoff time.\n",
    "tornado_computer = tornado_computer[tornado_computer['IncidentDate'] >= '03/03/2020 02:00:00']\n",
    "tornado_computer.head()"
   ]
  },
  {
   "cell_type": "code",
   "execution_count": 18,
   "metadata": {},
   "outputs": [],
   "source": [
    "# Value counts to show top 5 incident types for tornado.\n",
    "tcadd_incidents = tornado_computer.value_counts('IncidentTypeDescription1').head()"
   ]
  },
  {
   "cell_type": "code",
   "execution_count": 38,
   "metadata": {},
   "outputs": [
    {
     "data": {
      "image/png": "[encoded data removed]",
      "text/plain": [
       "<Figure size 432x288 with 1 Axes>"
      ]
     },
     "metadata": {
      "needs_background": "light"
     },
     "output_type": "display_data"
    }
   ],
   "source": [
    "tcadd_incidents.sort_values().plot.barh('tcadd_incidents', \n",
    "                             color=['orange','orange','orange','orange', 'red'])\n",
    "plt.ylabel(None)\n",
    "plt.xlabel('Number of Calls')\n",
    "plt.title('Tornado Incident Descriptions');"
   ]
  },
  {
   "cell_type": "code",
   "execution_count": 20,
   "metadata": {},
   "outputs": [
    {
     "name": "stdout",
     "output_type": "stream",
     "text": [
      "epsg:4326\n"
     ]
    },
    {
     "data": {
      "text/html": [
       "<div>\n",
       "<style scoped>\n",
       "    .dataframe tbody tr th:only-of-type {\n",
       "        vertical-align: middle;\n",
       "    }\n",
       "\n",
       "    .dataframe tbody tr th {\n",
       "        vertical-align: top;\n",
       "    }\n",
       "\n",
       "    .dataframe thead th {\n",
       "        text-align: right;\n",
       "    }\n",
       "</style>\n",
       "<table border=\"1\" class=\"dataframe\">\n",
       "  <thead>\n",
       "    <tr style=\"text-align: right;\">\n",
       "      <th></th>\n",
       "      <th>IncidentDate</th>\n",
       "      <th>Location</th>\n",
       "      <th>Latitude1</th>\n",
       "      <th>Longitude1</th>\n",
       "      <th>IncidentTypeDescription1</th>\n",
       "      <th>geometry</th>\n",
       "    </tr>\n",
       "  </thead>\n",
       "  <tbody>\n",
       "    <tr>\n",
       "      <th>129</th>\n",
       "      <td>2020-03-03 02:01:33</td>\n",
       "      <td>1421 WOODLAND ST</td>\n",
       "      <td>36.177240</td>\n",
       "      <td>-86.743885</td>\n",
       "      <td>SMOKE DETECTOR ALARM HOUSE</td>\n",
       "      <td>POINT (-86.74389 36.17724)</td>\n",
       "    </tr>\n",
       "    <tr>\n",
       "      <th>130</th>\n",
       "      <td>2020-03-03 02:01:52</td>\n",
       "      <td>2658 BARCLAY DR</td>\n",
       "      <td>36.174243</td>\n",
       "      <td>-86.719824</td>\n",
       "      <td>GENERAL ALARM COMMERCIAL   INDUSTRIAL BUILD</td>\n",
       "      <td>POINT (-86.71982 36.17424)</td>\n",
       "    </tr>\n",
       "    <tr>\n",
       "      <th>131</th>\n",
       "      <td>2020-03-03 02:02:32</td>\n",
       "      <td>S 9TH ST / MAIN ST</td>\n",
       "      <td>36.175964</td>\n",
       "      <td>-86.757246</td>\n",
       "      <td>OUTSIDE NATURAL GAS ODOR COMMERCIAL LINE TANK ...</td>\n",
       "      <td>POINT (-86.75725 36.17596)</td>\n",
       "    </tr>\n",
       "  </tbody>\n",
       "</table>\n",
       "</div>"
      ],
      "text/plain": [
       "           IncidentDate            Location  Latitude1  Longitude1  \\\n",
       "129 2020-03-03 02:01:33    1421 WOODLAND ST  36.177240  -86.743885   \n",
       "130 2020-03-03 02:01:52     2658 BARCLAY DR  36.174243  -86.719824   \n",
       "131 2020-03-03 02:02:32  S 9TH ST / MAIN ST  36.175964  -86.757246   \n",
       "\n",
       "                              IncidentTypeDescription1  \\\n",
       "129                         SMOKE DETECTOR ALARM HOUSE   \n",
       "130        GENERAL ALARM COMMERCIAL   INDUSTRIAL BUILD   \n",
       "131  OUTSIDE NATURAL GAS ODOR COMMERCIAL LINE TANK ...   \n",
       "\n",
       "                       geometry  \n",
       "129  POINT (-86.74389 36.17724)  \n",
       "130  POINT (-86.71982 36.17424)  \n",
       "131  POINT (-86.75725 36.17596)  "
      ]
     },
     "execution_count": 20,
     "metadata": {},
     "output_type": "execute_result"
    }
   ],
   "source": [
    "#change cadd tornado dataset to geo:\n",
    "tornado_computer['geometry'] = tornado_computer.apply(lambda x: Point((float(x.Longitude1),\n",
    "                                                         float(x.Latitude1))),\n",
    "                                        axis=1)\n",
    "cadd_tornado_geo = gpd.GeoDataFrame(tornado_computer,\n",
    "                           crs = zipcodes.crs,\n",
    "                           geometry = tornado_computer['geometry'])\n",
    "print(cadd_tornado_geo.crs)\n",
    "cadd_tornado_geo.head(3)"
   ]
  },
  {
   "cell_type": "code",
   "execution_count": 21,
   "metadata": {},
   "outputs": [
    {
     "name": "stdout",
     "output_type": "stream",
     "text": [
      "(131, 9)\n"
     ]
    },
    {
     "data": {
      "text/html": [
       "<div>\n",
       "<style scoped>\n",
       "    .dataframe tbody tr th:only-of-type {\n",
       "        vertical-align: middle;\n",
       "    }\n",
       "\n",
       "    .dataframe tbody tr th {\n",
       "        vertical-align: top;\n",
       "    }\n",
       "\n",
       "    .dataframe thead th {\n",
       "        text-align: right;\n",
       "    }\n",
       "</style>\n",
       "<table border=\"1\" class=\"dataframe\">\n",
       "  <thead>\n",
       "    <tr style=\"text-align: right;\">\n",
       "      <th></th>\n",
       "      <th>IncidentDate</th>\n",
       "      <th>Location</th>\n",
       "      <th>Latitude1</th>\n",
       "      <th>Longitude1</th>\n",
       "      <th>IncidentTypeDescription1</th>\n",
       "      <th>geometry</th>\n",
       "      <th>index_right</th>\n",
       "      <th>zip</th>\n",
       "      <th>po_name</th>\n",
       "    </tr>\n",
       "  </thead>\n",
       "  <tbody>\n",
       "    <tr>\n",
       "      <th>129</th>\n",
       "      <td>2020-03-03 02:01:33</td>\n",
       "      <td>1421 WOODLAND ST</td>\n",
       "      <td>36.177240</td>\n",
       "      <td>-86.743885</td>\n",
       "      <td>SMOKE DETECTOR ALARM HOUSE</td>\n",
       "      <td>POINT (-86.74389 36.17724)</td>\n",
       "      <td>13</td>\n",
       "      <td>37206</td>\n",
       "      <td>NASHVILLE</td>\n",
       "    </tr>\n",
       "    <tr>\n",
       "      <th>130</th>\n",
       "      <td>2020-03-03 02:01:52</td>\n",
       "      <td>2658 BARCLAY DR</td>\n",
       "      <td>36.174243</td>\n",
       "      <td>-86.719824</td>\n",
       "      <td>GENERAL ALARM COMMERCIAL   INDUSTRIAL BUILD</td>\n",
       "      <td>POINT (-86.71982 36.17424)</td>\n",
       "      <td>13</td>\n",
       "      <td>37206</td>\n",
       "      <td>NASHVILLE</td>\n",
       "    </tr>\n",
       "    <tr>\n",
       "      <th>131</th>\n",
       "      <td>2020-03-03 02:02:32</td>\n",
       "      <td>S 9TH ST / MAIN ST</td>\n",
       "      <td>36.175964</td>\n",
       "      <td>-86.757246</td>\n",
       "      <td>OUTSIDE NATURAL GAS ODOR COMMERCIAL LINE TANK ...</td>\n",
       "      <td>POINT (-86.75725 36.17596)</td>\n",
       "      <td>13</td>\n",
       "      <td>37206</td>\n",
       "      <td>NASHVILLE</td>\n",
       "    </tr>\n",
       "    <tr>\n",
       "      <th>132</th>\n",
       "      <td>2020-03-03 02:03:06</td>\n",
       "      <td>111 EVANDER ST</td>\n",
       "      <td>36.175976</td>\n",
       "      <td>-86.740844</td>\n",
       "      <td>OUTSIDE ODOR</td>\n",
       "      <td>POINT (-86.74084 36.17598)</td>\n",
       "      <td>13</td>\n",
       "      <td>37206</td>\n",
       "      <td>NASHVILLE</td>\n",
       "    </tr>\n",
       "    <tr>\n",
       "      <th>133</th>\n",
       "      <td>2020-03-03 02:04:00</td>\n",
       "      <td>938 W EASTLAND AV</td>\n",
       "      <td>36.184138</td>\n",
       "      <td>-86.754363</td>\n",
       "      <td>OUTSIDE ODOR</td>\n",
       "      <td>POINT (-86.75436 36.18414)</td>\n",
       "      <td>13</td>\n",
       "      <td>37206</td>\n",
       "      <td>NASHVILLE</td>\n",
       "    </tr>\n",
       "  </tbody>\n",
       "</table>\n",
       "</div>"
      ],
      "text/plain": [
       "           IncidentDate            Location  Latitude1  Longitude1  \\\n",
       "129 2020-03-03 02:01:33    1421 WOODLAND ST  36.177240  -86.743885   \n",
       "130 2020-03-03 02:01:52     2658 BARCLAY DR  36.174243  -86.719824   \n",
       "131 2020-03-03 02:02:32  S 9TH ST / MAIN ST  36.175964  -86.757246   \n",
       "132 2020-03-03 02:03:06      111 EVANDER ST  36.175976  -86.740844   \n",
       "133 2020-03-03 02:04:00   938 W EASTLAND AV  36.184138  -86.754363   \n",
       "\n",
       "                              IncidentTypeDescription1  \\\n",
       "129                         SMOKE DETECTOR ALARM HOUSE   \n",
       "130        GENERAL ALARM COMMERCIAL   INDUSTRIAL BUILD   \n",
       "131  OUTSIDE NATURAL GAS ODOR COMMERCIAL LINE TANK ...   \n",
       "132                                       OUTSIDE ODOR   \n",
       "133                                       OUTSIDE ODOR   \n",
       "\n",
       "                       geometry  index_right    zip    po_name  \n",
       "129  POINT (-86.74389 36.17724)           13  37206  NASHVILLE  \n",
       "130  POINT (-86.71982 36.17424)           13  37206  NASHVILLE  \n",
       "131  POINT (-86.75725 36.17596)           13  37206  NASHVILLE  \n",
       "132  POINT (-86.74084 36.17598)           13  37206  NASHVILLE  \n",
       "133  POINT (-86.75436 36.18414)           13  37206  NASHVILLE  "
      ]
     },
     "execution_count": 21,
     "metadata": {},
     "output_type": "execute_result"
    }
   ],
   "source": [
    "# join geodataframe to zip codes geojson file.\n",
    "tcadd_zip = gpd.sjoin(cadd_tornado_geo, zipcodes, op = 'within')\n",
    "print(tcadd_zip.shape)\n",
    "tcadd_zip.head()"
   ]
  },
  {
   "cell_type": "code",
   "execution_count": 22,
   "metadata": {},
   "outputs": [],
   "source": [
    "# convert geodataframe back to dataframe for plotting charts.\n",
    "tcadd_zip = pd.DataFrame(tcadd_zip)"
   ]
  },
  {
   "cell_type": "code",
   "execution_count": 23,
   "metadata": {},
   "outputs": [
    {
     "name": "stdout",
     "output_type": "stream",
     "text": [
      "37206    36\n",
      "37208    26\n",
      "37076    17\n",
      "37214    11\n",
      "37115     6\n",
      "37209     6\n",
      "37207     6\n",
      "37218     3\n",
      "37213     3\n",
      "37205     3\n",
      "Name: zip, dtype: int64\n"
     ]
    }
   ],
   "source": [
    "# Count of dispatches by zip code.\n",
    "tcadd_zipcount = tcadd_zip.zip.value_counts().head(10)\n",
    "print(tcadd_zipcount)"
   ]
  },
  {
   "cell_type": "code",
   "execution_count": 24,
   "metadata": {},
   "outputs": [
    {
     "data": {
      "image/png": "[encoded data removed]",
      "text/plain": [
       "<Figure size 432x288 with 1 Axes>"
      ]
     },
     "metadata": {
      "needs_background": "light"
     },
     "output_type": "display_data"
    }
   ],
   "source": [
    "#ax=tcadd_zipcount.plot.bar(x='zip', color = 'orange')\n",
    "\n",
    "ax=tcadd_zipcount.plot.bar(x='zip', color=['red', 'red','red','red','red','orange','orange','orange','red','red']);\n",
    "plt.title('Tornado Late Calls by Zip Code')\n",
    "plt.ylabel('Number of Calls')\n",
    "plt.xticks(rotation = 45);"
   ]
  },
  {
   "cell_type": "code",
   "execution_count": 25,
   "metadata": {},
   "outputs": [],
   "source": [
    "derecho_computer['IncidentDate'] = pd.to_datetime(derecho_computer['IncidentDate'])"
   ]
  },
  {
   "cell_type": "code",
   "execution_count": 26,
   "metadata": {},
   "outputs": [
    {
     "data": {
      "text/html": [
       "<div>\n",
       "<style scoped>\n",
       "    .dataframe tbody tr th:only-of-type {\n",
       "        vertical-align: middle;\n",
       "    }\n",
       "\n",
       "    .dataframe tbody tr th {\n",
       "        vertical-align: top;\n",
       "    }\n",
       "\n",
       "    .dataframe thead th {\n",
       "        text-align: right;\n",
       "    }\n",
       "</style>\n",
       "<table border=\"1\" class=\"dataframe\">\n",
       "  <thead>\n",
       "    <tr style=\"text-align: right;\">\n",
       "      <th></th>\n",
       "      <th>IncidentDate</th>\n",
       "      <th>Location</th>\n",
       "      <th>Latitude1</th>\n",
       "      <th>Longitude1</th>\n",
       "      <th>IncidentTypeDescription1</th>\n",
       "    </tr>\n",
       "  </thead>\n",
       "  <tbody>\n",
       "    <tr>\n",
       "      <th>408</th>\n",
       "      <td>2020-05-03 20:00:04</td>\n",
       "      <td>487 ELLENWOOD DR</td>\n",
       "      <td>36.058035</td>\n",
       "      <td>-86.733791</td>\n",
       "      <td>ELECTRICAL HAZARD</td>\n",
       "    </tr>\n",
       "    <tr>\n",
       "      <th>409</th>\n",
       "      <td>2020-05-03 20:00:32</td>\n",
       "      <td>3531 HUNTLAND DR</td>\n",
       "      <td>36.274720</td>\n",
       "      <td>-86.842008</td>\n",
       "      <td>DIFFICULTY SPEAKING BETWEEN BREATHS</td>\n",
       "    </tr>\n",
       "    <tr>\n",
       "      <th>410</th>\n",
       "      <td>2020-05-03 20:00:35</td>\n",
       "      <td>6009 HAWKDALE DR</td>\n",
       "      <td>36.029022</td>\n",
       "      <td>-86.714328</td>\n",
       "      <td>ABNORMAL BREATHING</td>\n",
       "    </tr>\n",
       "    <tr>\n",
       "      <th>411</th>\n",
       "      <td>2020-05-03 20:02:45</td>\n",
       "      <td>5017 MAYWOOD DR</td>\n",
       "      <td>36.070287</td>\n",
       "      <td>-86.757398</td>\n",
       "      <td>ELECTRICAL HAZARD</td>\n",
       "    </tr>\n",
       "    <tr>\n",
       "      <th>412</th>\n",
       "      <td>2020-05-03 20:03:01</td>\n",
       "      <td>250 NEW SAWYER BROWN RD</td>\n",
       "      <td>36.086361</td>\n",
       "      <td>-86.941623</td>\n",
       "      <td>ELECTRICAL HAZARD</td>\n",
       "    </tr>\n",
       "  </tbody>\n",
       "</table>\n",
       "</div>"
      ],
      "text/plain": [
       "           IncidentDate                 Location  Latitude1  Longitude1  \\\n",
       "408 2020-05-03 20:00:04         487 ELLENWOOD DR  36.058035  -86.733791   \n",
       "409 2020-05-03 20:00:32         3531 HUNTLAND DR  36.274720  -86.842008   \n",
       "410 2020-05-03 20:00:35         6009 HAWKDALE DR  36.029022  -86.714328   \n",
       "411 2020-05-03 20:02:45          5017 MAYWOOD DR  36.070287  -86.757398   \n",
       "412 2020-05-03 20:03:01  250 NEW SAWYER BROWN RD  36.086361  -86.941623   \n",
       "\n",
       "                IncidentTypeDescription1  \n",
       "408                    ELECTRICAL HAZARD  \n",
       "409  DIFFICULTY SPEAKING BETWEEN BREATHS  \n",
       "410                   ABNORMAL BREATHING  \n",
       "411                    ELECTRICAL HAZARD  \n",
       "412                    ELECTRICAL HAZARD  "
      ]
     },
     "execution_count": 26,
     "metadata": {},
     "output_type": "execute_result"
    }
   ],
   "source": [
    "derecho_computer = derecho_computer[derecho_computer['IncidentDate'] >= '05/03/2020 20:00:00']\n",
    "derecho_computer.head()"
   ]
  },
  {
   "cell_type": "code",
   "execution_count": 42,
   "metadata": {},
   "outputs": [],
   "source": [
    "dcadd_incidents = derecho_computer.value_counts('IncidentTypeDescription1').head()"
   ]
  },
  {
   "cell_type": "code",
   "execution_count": 43,
   "metadata": {},
   "outputs": [
    {
     "data": {
      "image/png": "[encoded data removed]",
      "text/plain": [
       "<Figure size 432x288 with 1 Axes>"
      ]
     },
     "metadata": {
      "needs_background": "light"
     },
     "output_type": "display_data"
    }
   ],
   "source": [
    "dcadd_incidents.sort_values().plot.barh('dcadd_incidents', \n",
    "                             color=['orange','orange','orange','orange', 'red'])\n",
    "plt.ylabel(None)\n",
    "plt.xlabel('Number of Calls')\n",
    "plt.title('Derecho Incident Descriptions');"
   ]
  },
  {
   "cell_type": "code",
   "execution_count": 28,
   "metadata": {},
   "outputs": [
    {
     "name": "stdout",
     "output_type": "stream",
     "text": [
      "epsg:4326\n"
     ]
    },
    {
     "data": {
      "text/html": [
       "<div>\n",
       "<style scoped>\n",
       "    .dataframe tbody tr th:only-of-type {\n",
       "        vertical-align: middle;\n",
       "    }\n",
       "\n",
       "    .dataframe tbody tr th {\n",
       "        vertical-align: top;\n",
       "    }\n",
       "\n",
       "    .dataframe thead th {\n",
       "        text-align: right;\n",
       "    }\n",
       "</style>\n",
       "<table border=\"1\" class=\"dataframe\">\n",
       "  <thead>\n",
       "    <tr style=\"text-align: right;\">\n",
       "      <th></th>\n",
       "      <th>IncidentDate</th>\n",
       "      <th>Location</th>\n",
       "      <th>Latitude1</th>\n",
       "      <th>Longitude1</th>\n",
       "      <th>IncidentTypeDescription1</th>\n",
       "      <th>geometry</th>\n",
       "    </tr>\n",
       "  </thead>\n",
       "  <tbody>\n",
       "    <tr>\n",
       "      <th>408</th>\n",
       "      <td>2020-05-03 20:00:04</td>\n",
       "      <td>487 ELLENWOOD DR</td>\n",
       "      <td>36.058035</td>\n",
       "      <td>-86.733791</td>\n",
       "      <td>ELECTRICAL HAZARD</td>\n",
       "      <td>POINT (-86.73379 36.05804)</td>\n",
       "    </tr>\n",
       "    <tr>\n",
       "      <th>409</th>\n",
       "      <td>2020-05-03 20:00:32</td>\n",
       "      <td>3531 HUNTLAND DR</td>\n",
       "      <td>36.274720</td>\n",
       "      <td>-86.842008</td>\n",
       "      <td>DIFFICULTY SPEAKING BETWEEN BREATHS</td>\n",
       "      <td>POINT (-86.84201 36.27472)</td>\n",
       "    </tr>\n",
       "    <tr>\n",
       "      <th>410</th>\n",
       "      <td>2020-05-03 20:00:35</td>\n",
       "      <td>6009 HAWKDALE DR</td>\n",
       "      <td>36.029022</td>\n",
       "      <td>-86.714328</td>\n",
       "      <td>ABNORMAL BREATHING</td>\n",
       "      <td>POINT (-86.71433 36.02902)</td>\n",
       "    </tr>\n",
       "  </tbody>\n",
       "</table>\n",
       "</div>"
      ],
      "text/plain": [
       "           IncidentDate          Location  Latitude1  Longitude1  \\\n",
       "408 2020-05-03 20:00:04  487 ELLENWOOD DR  36.058035  -86.733791   \n",
       "409 2020-05-03 20:00:32  3531 HUNTLAND DR  36.274720  -86.842008   \n",
       "410 2020-05-03 20:00:35  6009 HAWKDALE DR  36.029022  -86.714328   \n",
       "\n",
       "                IncidentTypeDescription1                    geometry  \n",
       "408                    ELECTRICAL HAZARD  POINT (-86.73379 36.05804)  \n",
       "409  DIFFICULTY SPEAKING BETWEEN BREATHS  POINT (-86.84201 36.27472)  \n",
       "410                   ABNORMAL BREATHING  POINT (-86.71433 36.02902)  "
      ]
     },
     "execution_count": 28,
     "metadata": {},
     "output_type": "execute_result"
    }
   ],
   "source": [
    "#change cadd derecho dataset to geo:\n",
    "derecho_computer['geometry'] = derecho_computer.apply(lambda x: Point((float(x.Longitude1),\n",
    "                                                         float(x.Latitude1))),\n",
    "                                        axis=1)\n",
    "cadd_derecho_geo = gpd.GeoDataFrame(derecho_computer,\n",
    "                           crs = zipcodes.crs,\n",
    "                           geometry = derecho_computer['geometry'])\n",
    "print(cadd_derecho_geo.crs)\n",
    "cadd_derecho_geo.head(3)"
   ]
  },
  {
   "cell_type": "code",
   "execution_count": 29,
   "metadata": {},
   "outputs": [
    {
     "name": "stdout",
     "output_type": "stream",
     "text": [
      "(219, 9)\n"
     ]
    },
    {
     "data": {
      "text/html": [
       "<div>\n",
       "<style scoped>\n",
       "    .dataframe tbody tr th:only-of-type {\n",
       "        vertical-align: middle;\n",
       "    }\n",
       "\n",
       "    .dataframe tbody tr th {\n",
       "        vertical-align: top;\n",
       "    }\n",
       "\n",
       "    .dataframe thead th {\n",
       "        text-align: right;\n",
       "    }\n",
       "</style>\n",
       "<table border=\"1\" class=\"dataframe\">\n",
       "  <thead>\n",
       "    <tr style=\"text-align: right;\">\n",
       "      <th></th>\n",
       "      <th>IncidentDate</th>\n",
       "      <th>Location</th>\n",
       "      <th>Latitude1</th>\n",
       "      <th>Longitude1</th>\n",
       "      <th>IncidentTypeDescription1</th>\n",
       "      <th>geometry</th>\n",
       "      <th>index_right</th>\n",
       "      <th>zip</th>\n",
       "      <th>po_name</th>\n",
       "    </tr>\n",
       "  </thead>\n",
       "  <tbody>\n",
       "    <tr>\n",
       "      <th>408</th>\n",
       "      <td>2020-05-03 20:00:04</td>\n",
       "      <td>487 ELLENWOOD DR</td>\n",
       "      <td>36.058035</td>\n",
       "      <td>-86.733791</td>\n",
       "      <td>ELECTRICAL HAZARD</td>\n",
       "      <td>POINT (-86.73379 36.05804)</td>\n",
       "      <td>49</td>\n",
       "      <td>37211</td>\n",
       "      <td>NASHVILLE</td>\n",
       "    </tr>\n",
       "    <tr>\n",
       "      <th>410</th>\n",
       "      <td>2020-05-03 20:00:35</td>\n",
       "      <td>6009 HAWKDALE DR</td>\n",
       "      <td>36.029022</td>\n",
       "      <td>-86.714328</td>\n",
       "      <td>ABNORMAL BREATHING</td>\n",
       "      <td>POINT (-86.71433 36.02902)</td>\n",
       "      <td>49</td>\n",
       "      <td>37211</td>\n",
       "      <td>NASHVILLE</td>\n",
       "    </tr>\n",
       "    <tr>\n",
       "      <th>411</th>\n",
       "      <td>2020-05-03 20:02:45</td>\n",
       "      <td>5017 MAYWOOD DR</td>\n",
       "      <td>36.070287</td>\n",
       "      <td>-86.757398</td>\n",
       "      <td>ELECTRICAL HAZARD</td>\n",
       "      <td>POINT (-86.75740 36.07029)</td>\n",
       "      <td>49</td>\n",
       "      <td>37211</td>\n",
       "      <td>NASHVILLE</td>\n",
       "    </tr>\n",
       "    <tr>\n",
       "      <th>423</th>\n",
       "      <td>2020-05-03 20:12:15</td>\n",
       "      <td>5044 MARC DR</td>\n",
       "      <td>36.027227</td>\n",
       "      <td>-86.738349</td>\n",
       "      <td>ELECTRICAL HAZARD</td>\n",
       "      <td>POINT (-86.73835 36.02723)</td>\n",
       "      <td>49</td>\n",
       "      <td>37211</td>\n",
       "      <td>NASHVILLE</td>\n",
       "    </tr>\n",
       "    <tr>\n",
       "      <th>429</th>\n",
       "      <td>2020-05-03 20:15:24</td>\n",
       "      <td>3933 KEELEY DR</td>\n",
       "      <td>36.066330</td>\n",
       "      <td>-86.697248</td>\n",
       "      <td>INEFFECTIVE BREATHING</td>\n",
       "      <td>POINT (-86.69725 36.06633)</td>\n",
       "      <td>49</td>\n",
       "      <td>37211</td>\n",
       "      <td>NASHVILLE</td>\n",
       "    </tr>\n",
       "  </tbody>\n",
       "</table>\n",
       "</div>"
      ],
      "text/plain": [
       "           IncidentDate          Location  Latitude1  Longitude1  \\\n",
       "408 2020-05-03 20:00:04  487 ELLENWOOD DR  36.058035  -86.733791   \n",
       "410 2020-05-03 20:00:35  6009 HAWKDALE DR  36.029022  -86.714328   \n",
       "411 2020-05-03 20:02:45   5017 MAYWOOD DR  36.070287  -86.757398   \n",
       "423 2020-05-03 20:12:15      5044 MARC DR  36.027227  -86.738349   \n",
       "429 2020-05-03 20:15:24    3933 KEELEY DR  36.066330  -86.697248   \n",
       "\n",
       "    IncidentTypeDescription1                    geometry  index_right    zip  \\\n",
       "408        ELECTRICAL HAZARD  POINT (-86.73379 36.05804)           49  37211   \n",
       "410       ABNORMAL BREATHING  POINT (-86.71433 36.02902)           49  37211   \n",
       "411        ELECTRICAL HAZARD  POINT (-86.75740 36.07029)           49  37211   \n",
       "423        ELECTRICAL HAZARD  POINT (-86.73835 36.02723)           49  37211   \n",
       "429    INEFFECTIVE BREATHING  POINT (-86.69725 36.06633)           49  37211   \n",
       "\n",
       "       po_name  \n",
       "408  NASHVILLE  \n",
       "410  NASHVILLE  \n",
       "411  NASHVILLE  \n",
       "423  NASHVILLE  \n",
       "429  NASHVILLE  "
      ]
     },
     "execution_count": 29,
     "metadata": {},
     "output_type": "execute_result"
    }
   ],
   "source": [
    "dcadd_zip = gpd.sjoin(cadd_derecho_geo, zipcodes, op = 'within')\n",
    "print(dcadd_zip.shape)\n",
    "dcadd_zip.head()"
   ]
  },
  {
   "cell_type": "code",
   "execution_count": 30,
   "metadata": {},
   "outputs": [],
   "source": [
    "dcadd_zip = pd.DataFrame(dcadd_zip)"
   ]
  },
  {
   "cell_type": "code",
   "execution_count": 31,
   "metadata": {},
   "outputs": [
    {
     "name": "stdout",
     "output_type": "stream",
     "text": [
      "37211    27\n",
      "37205    20\n",
      "37076    18\n",
      "37013    16\n",
      "37214    16\n",
      "37215    13\n",
      "37207    11\n",
      "37217    11\n",
      "37204    11\n",
      "37203    11\n",
      "Name: zip, dtype: int64\n"
     ]
    }
   ],
   "source": [
    "dcadd_zipcount = dcadd_zip.zip.value_counts().head(10)\n",
    "print(dcadd_zipcount)"
   ]
  },
  {
   "cell_type": "code",
   "execution_count": 32,
   "metadata": {},
   "outputs": [
    {
     "data": {
      "image/png": "[encoded data removed]",
      "text/plain": [
       "<Figure size 432x288 with 1 Axes>"
      ]
     },
     "metadata": {
      "needs_background": "light"
     },
     "output_type": "display_data"
    }
   ],
   "source": [
    "#ax=dcadd_zipcount.plot.bar(x='zip', color = 'orange')\n",
    "#plt.title('Derecho Late Calls by Zip Code')\n",
    "#plt.ylabel('Number of Calls');\n",
    "\n",
    "ax=dcadd_zipcount.plot.bar(x='zip', color=['red', 'red','red','red','red',\n",
    "                                           'orange','orange','orange','orange','orange']); \n",
    "plt.title('Derecho Late Calls by Zip Code')\n",
    "plt.ylabel('Number of Calls')\n",
    "plt.xticks(rotation = 45);"
   ]
  },
  {
   "cell_type": "code",
   "execution_count": null,
   "metadata": {},
   "outputs": [],
   "source": []
  }
 ],
 "metadata": {
  "kernelspec": {
   "display_name": "Python 3",
   "language": "python",
   "name": "python3"
  },
  "language_info": {
   "codemirror_mode": {
    "name": "ipython",
    "version": 3
   },
   "file_extension": ".py",
   "mimetype": "text/x-python",
   "name": "python",
   "nbconvert_exporter": "python",
   "pygments_lexer": "ipython3",
   "version": "3.8.3"
  }
 },
 "nbformat": 4,
 "nbformat_minor": 4
}
