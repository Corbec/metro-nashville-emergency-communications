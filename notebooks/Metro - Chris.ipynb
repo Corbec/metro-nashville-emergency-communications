{
 "cells": [
  {
   "cell_type": "markdown",
   "metadata": {},
   "source": [
    "Exploring the data for Metro Nashville Emergency Communications project. Data provided through GitHub and consists of 4 .csv files that cover the tornado in March and the storm in May.\n",
    "Notebook by Chris Mulvey\n",
    "11 November 2020"
   ]
  },
  {
   "cell_type": "code",
   "execution_count": null,
   "metadata": {},
   "outputs": [],
   "source": [
    "from shapely.geometry import Point\n",
    "import pandas as pd\n",
    "import geopandas as gpd\n",
    "import matplotlib.pyplot as plt\n",
    "import folium\n",
    "from folium.plugins import MarkerCluster\n",
    "from folium.plugins import FastMarkerCluster"
   ]
  },
  {
   "cell_type": "markdown",
   "metadata": {},
   "source": [
    "Reading in the .csv files and looking at their makeup."
   ]
  },
  {
   "cell_type": "code",
   "execution_count": null,
   "metadata": {},
   "outputs": [],
   "source": [
    "derecho_calls = pd.read_csv('../data/911_Phone Calls_Derecho_050320 050420.csv')"
   ]
  },
  {
   "cell_type": "code",
   "execution_count": null,
   "metadata": {},
   "outputs": [],
   "source": [
    "derecho_calls.head()"
   ]
  },
  {
   "cell_type": "code",
   "execution_count": null,
   "metadata": {},
   "outputs": [],
   "source": [
    "derecho_calls.info()"
   ]
  },
  {
   "cell_type": "markdown",
   "metadata": {},
   "source": [
    "There are some null values in the derecho_calls file, in lat, long, and Cell Tower address columns."
   ]
  },
  {
   "cell_type": "code",
   "execution_count": null,
   "metadata": {},
   "outputs": [],
   "source": [
    "# Get a count of the number of each cell tower address for derecho_calls.\n",
    "derecho_calls['Cell Tower Address'].value_counts()"
   ]
  },
  {
   "cell_type": "code",
   "execution_count": null,
   "metadata": {},
   "outputs": [],
   "source": [
    "derecho_calls['Seizure DateTime'].value_counts()"
   ]
  },
  {
   "cell_type": "code",
   "execution_count": null,
   "metadata": {},
   "outputs": [],
   "source": [
    "derecho_computer = pd.read_csv('../data/Computer Aided Dispatch Data_Derecho Incidents 050320-050420.csv',\n",
    "                               skiprows = 3) \n",
    "# Used skiprows because there is a textbox we do not need at the top of the csv file."
   ]
  },
  {
   "cell_type": "code",
   "execution_count": null,
   "metadata": {},
   "outputs": [],
   "source": [
    "derecho_computer.head()"
   ]
  },
  {
   "cell_type": "code",
   "execution_count": null,
   "metadata": {},
   "outputs": [],
   "source": [
    "derecho_computer.info()"
   ]
  },
  {
   "cell_type": "markdown",
   "metadata": {},
   "source": [
    "No null values in the derecho_computer file."
   ]
  },
  {
   "cell_type": "code",
   "execution_count": null,
   "metadata": {},
   "outputs": [],
   "source": [
    "# Get a count of the number of each incident type for derecho_computer.\n",
    "derecho_computer['IncidentTypeDescription1'].value_counts()"
   ]
  },
  {
   "cell_type": "code",
   "execution_count": null,
   "metadata": {},
   "outputs": [],
   "source": [
    "derecho_computer['IncidentDate'].value_counts()"
   ]
  },
  {
   "cell_type": "code",
   "execution_count": null,
   "metadata": {},
   "outputs": [],
   "source": [
    "tornado_calls = pd.read_csv('../data/911_Phone_Calls_Tornado_030320.csv')"
   ]
  },
  {
   "cell_type": "code",
   "execution_count": null,
   "metadata": {},
   "outputs": [],
   "source": [
    "tornado_calls.head()"
   ]
  },
  {
   "cell_type": "code",
   "execution_count": null,
   "metadata": {},
   "outputs": [],
   "source": [
    "tornado_calls.info()"
   ]
  },
  {
   "cell_type": "markdown",
   "metadata": {},
   "source": [
    "There are some nulls in the tornado_calls file, in the lat, long, and tower address columns."
   ]
  },
  {
   "cell_type": "code",
   "execution_count": null,
   "metadata": {},
   "outputs": [],
   "source": [
    "# Get a count of the number of each cell tower address for derecho_calls.\n",
    "tornado_calls['Cell Tower Address'].value_counts()"
   ]
  },
  {
   "cell_type": "code",
   "execution_count": null,
   "metadata": {},
   "outputs": [],
   "source": [
    "tornado_calls['Seizure DateTime'].value_counts()"
   ]
  },
  {
   "cell_type": "code",
   "execution_count": null,
   "metadata": {},
   "outputs": [],
   "source": [
    "tornado_computer = pd.read_csv('../data/Computer Aided Dispatch Data_Tornado Incidents 030320.csv', skiprows = 3)\n",
    "# skiprows used again because of same type of text box as above."
   ]
  },
  {
   "cell_type": "code",
   "execution_count": null,
   "metadata": {},
   "outputs": [],
   "source": [
    "tornado_computer.head()"
   ]
  },
  {
   "cell_type": "code",
   "execution_count": null,
   "metadata": {},
   "outputs": [],
   "source": [
    "tornado_computer.info()"
   ]
  },
  {
   "cell_type": "markdown",
   "metadata": {},
   "source": [
    "No null values in tornado_computer."
   ]
  },
  {
   "cell_type": "code",
   "execution_count": null,
   "metadata": {},
   "outputs": [],
   "source": [
    "# Get a count of the number of each incident type for derecho_computer.\n",
    "tornado_computer['IncidentTypeDescription1'].value_counts()"
   ]
  },
  {
   "cell_type": "code",
   "execution_count": null,
   "metadata": {},
   "outputs": [],
   "source": [
    "tornado_computer['IncidentDate'].value_counts()"
   ]
  },
  {
   "cell_type": "markdown",
   "metadata": {},
   "source": [
    "Seeing if I can search incident type for house or commercial, etc."
   ]
  },
  {
   "cell_type": "code",
   "execution_count": null,
   "metadata": {},
   "outputs": [],
   "source": [
    "tornado_houses = tornado_computer[tornado_computer['IncidentTypeDescription1'].str.contains('HOUSE')]"
   ]
  },
  {
   "cell_type": "code",
   "execution_count": null,
   "metadata": {},
   "outputs": [],
   "source": [
    "tornado_houses.head()"
   ]
  },
  {
   "cell_type": "markdown",
   "metadata": {},
   "source": [
    "Bringing in neighborhood maps to see which neighborhood the calls and dispatches were in."
   ]
  },
  {
   "cell_type": "code",
   "execution_count": null,
   "metadata": {},
   "outputs": [],
   "source": [
    "neighborhoods = gpd.read_file('../data/Neighborhood Association Boundaries (GIS).geojson')\n",
    "print(neighborhoods.crs)"
   ]
  },
  {
   "cell_type": "code",
   "execution_count": null,
   "metadata": {},
   "outputs": [],
   "source": [
    "neighborhoods.head()"
   ]
  },
  {
   "cell_type": "markdown",
   "metadata": {},
   "source": [
    "Convert both DataFrames to GeoDataFrames by adding a geometry column."
   ]
  },
  {
   "cell_type": "code",
   "execution_count": null,
   "metadata": {},
   "outputs": [],
   "source": [
    "# Dropping rows with no lat and long\n",
    "derecho_calls = derecho_calls.dropna(axis = 0, subset = ['ALI Longitude', 'ALI Latitude'])\n",
    "# Making a geometry column in the derecho_calls DataFrame\n",
    "derecho_calls['geometry'] = derecho_calls.apply(lambda x: Point((x['ALI Longitude']), \n",
    "                                                         (x['ALI Latitude'])), \n",
    "                                        axis=1)"
   ]
  },
  {
   "cell_type": "code",
   "execution_count": null,
   "metadata": {},
   "outputs": [],
   "source": [
    "derecho_calls.head()"
   ]
  },
  {
   "cell_type": "code",
   "execution_count": null,
   "metadata": {},
   "outputs": [],
   "source": [
    "# Matching up coordinate reference system between derecho_calls and neighborhoods.\n",
    "derecho_calls_geo = gpd.GeoDataFrame(derecho_calls, \n",
    "                           crs = neighborhoods.crs, \n",
    "                           geometry = derecho_calls['geometry'])"
   ]
  },
  {
   "cell_type": "markdown",
   "metadata": {},
   "source": [
    "derecho_calls_geo is ready to join with neighborhoods."
   ]
  },
  {
   "cell_type": "code",
   "execution_count": null,
   "metadata": {},
   "outputs": [],
   "source": [
    "# Same as derecho_call above.\n",
    "tornado_calls = tornado_calls.dropna(axis = 0, subset = ['ALI Longitude', 'ALI Latitude'])\n",
    "tornado_calls['geometry'] = tornado_calls.apply(lambda x: Point((x['ALI Longitude']), \n",
    "                                                         (x['ALI Latitude'])), \n",
    "                                        axis=1)"
   ]
  },
  {
   "cell_type": "code",
   "execution_count": null,
   "metadata": {},
   "outputs": [],
   "source": [
    "tornado_calls.head(1)"
   ]
  },
  {
   "cell_type": "code",
   "execution_count": null,
   "metadata": {},
   "outputs": [],
   "source": [
    "# Matching up coordinate reference system between tornado_calls and neighborhoods.\n",
    "tornado_calls_geo = gpd.GeoDataFrame(tornado_calls, \n",
    "                           crs = neighborhoods.crs, \n",
    "                           geometry = tornado_calls['geometry'])"
   ]
  },
  {
   "cell_type": "markdown",
   "metadata": {},
   "source": [
    "Moving on to the derecho and tornado computer aided dispatch DataFrames."
   ]
  },
  {
   "cell_type": "code",
   "execution_count": null,
   "metadata": {},
   "outputs": [],
   "source": [
    "derecho_computer = derecho_computer.dropna(axis = 0, subset = ['Longitude1', 'Latitude1'])\n",
    "derecho_computer['geometry'] = derecho_computer.apply(lambda x: Point((x['Longitude1']), \n",
    "                                                         (x['Latitude1'])), \n",
    "                                        axis=1)"
   ]
  },
  {
   "cell_type": "code",
   "execution_count": null,
   "metadata": {},
   "outputs": [],
   "source": [
    "derecho_computer.head(1)"
   ]
  },
  {
   "cell_type": "code",
   "execution_count": null,
   "metadata": {},
   "outputs": [],
   "source": [
    "derecho_computer_geo = gpd.GeoDataFrame(derecho_computer, \n",
    "                           crs = neighborhoods.crs, \n",
    "                           geometry = derecho_computer['geometry'])"
   ]
  },
  {
   "cell_type": "code",
   "execution_count": null,
   "metadata": {},
   "outputs": [],
   "source": [
    "tornado_computer = tornado_computer.dropna(axis = 0, subset = ['Longitude1', 'Latitude1'])\n",
    "tornado_computer['geometry'] = tornado_computer.apply(lambda x: Point((x['Longitude1']), \n",
    "                                                         (x['Latitude1'])), \n",
    "                                        axis=1)"
   ]
  },
  {
   "cell_type": "code",
   "execution_count": null,
   "metadata": {},
   "outputs": [],
   "source": [
    "tornado_computer.head(1)"
   ]
  },
  {
   "cell_type": "code",
   "execution_count": null,
   "metadata": {},
   "outputs": [],
   "source": [
    "tornado_computer_geo = gpd.GeoDataFrame(tornado_computer, \n",
    "                           crs = neighborhoods.crs, \n",
    "                           geometry = tornado_computer['geometry'])"
   ]
  },
  {
   "cell_type": "markdown",
   "metadata": {},
   "source": [
    "Joining neighborhoods with derecho_calls and derecho_computer."
   ]
  },
  {
   "cell_type": "code",
   "execution_count": null,
   "metadata": {},
   "outputs": [],
   "source": [
    "dcalls_by_neighborhood = gpd.sjoin(derecho_calls_geo, neighborhoods, op = 'within', how = 'left')"
   ]
  },
  {
   "cell_type": "code",
   "execution_count": null,
   "metadata": {},
   "outputs": [],
   "source": [
    "#dcalls_by_neighborhood.dropna(axis = 0, subset = ['ALI Longitude', 'ALI Latitude'])"
   ]
  },
  {
   "cell_type": "code",
   "execution_count": null,
   "metadata": {},
   "outputs": [],
   "source": [
    "dcalls_by_neighborhood.head()"
   ]
  },
  {
   "cell_type": "code",
   "execution_count": null,
   "metadata": {},
   "outputs": [],
   "source": [
    "dcomp_by_neighborhood = gpd.sjoin(derecho_computer_geo, neighborhoods, op = 'within', how = 'left')"
   ]
  },
  {
   "cell_type": "code",
   "execution_count": null,
   "metadata": {},
   "outputs": [],
   "source": []
  },
  {
   "cell_type": "code",
   "execution_count": null,
   "metadata": {},
   "outputs": [],
   "source": [
    "dcomp_by_neighborhood.head()"
   ]
  },
  {
   "cell_type": "code",
   "execution_count": null,
   "metadata": {},
   "outputs": [],
   "source": [
    "ax = neighborhoods.plot(figsize = (8, 10), color = 'lightgreen')\n",
    "dcalls_by_neighborhood.plot( ax = ax);\n",
    "plt.show();"
   ]
  },
  {
   "cell_type": "code",
   "execution_count": null,
   "metadata": {},
   "outputs": [],
   "source": [
    "ax = neighborhoods.plot(figsize = (8, 10), color = 'lightgreen')\n",
    "dcomp_by_neighborhood.plot( ax = ax);\n",
    "plt.show();"
   ]
  },
  {
   "cell_type": "code",
   "execution_count": null,
   "metadata": {},
   "outputs": [],
   "source": [
    "# setting a coordinate for Nashville city center. Got lat/long from google.\n",
    "center = [36.1627, -86.7816]"
   ]
  },
  {
   "cell_type": "code",
   "execution_count": null,
   "metadata": {},
   "outputs": [],
   "source": [
    "print(center)"
   ]
  },
  {
   "cell_type": "code",
   "execution_count": null,
   "metadata": {},
   "outputs": [],
   "source": [
    "map_neighborhoods = folium.Map(location = center, zoom_start = 12)\n",
    "map_neighborhoods"
   ]
  },
  {
   "cell_type": "code",
   "execution_count": null,
   "metadata": {},
   "outputs": [],
   "source": [
    "#dcalls_by_neighborhood = dcalls_by_neighborhood.dropna()#axis = 0, subset = ['ALI Longitude', 'ALI Latitude'])\n",
    "#dcomp_by_neighborhood = dcomp_by_neighborhood.dropna()#axis = 0, subset = ['Longitude1', 'Latitude1'])\n",
    "\n",
    "map_neighborhoods = folium.Map(location =  center, zoom_start = 12)\n",
    "\n",
    "folium.GeoJson(neighborhoods).add_to(map_neighborhoods)\n",
    "\n",
    "# Plotting the derecho calls in red\n",
    "for row_index, row_values in dcalls_by_neighborhood.iterrows():\n",
    "    loc1 = [row_values['ALI Latitude'], row_values['ALI Longitude']]\n",
    "    pop1 = row_values['Seizure DateTime'], row_values['Cell Tower Address'], row_values['name']\n",
    "    icon1 = folium.Icon(color = \"red\", icon = \"phone-square\", prefix = 'fa')\n",
    "    marker1 = folium.Marker(\n",
    "        location = loc1, \n",
    "        popup = pop1, icon = icon1)\n",
    "    \n",
    "    marker1.add_to(map_neighborhoods)\n",
    "        \n",
    "# Plotting the derecho dispatches in green    \n",
    "for row_index, row_values in dcomp_by_neighborhood.iterrows():\n",
    "    loc2 = [row_values['Latitude1'], row_values['Longitude1']]\n",
    "    pop2 = row_values['IncidentDate'], row_values['IncidentTypeDescription1'], row_values['name']\n",
    "    icon2 = folium.Icon(color = 'green', icon = 'phone', prefix = 'fa')\n",
    "    marker2 = folium.Marker(\n",
    "        location = loc2, \n",
    "        popup = pop2, icon = icon2)\n",
    "    \n",
    "    marker2.add_to(map_neighborhoods)\n",
    "    \n",
    "map_neighborhoods.save('../maps/mapdcalls.html')\n",
    "\n",
    "map_neighborhoods"
   ]
  },
  {
   "cell_type": "markdown",
   "metadata": {},
   "source": [
    "The above map has all dispatch rows plotted after call rows. The red marker is the a call that didn't have an associated dispatch."
   ]
  },
  {
   "cell_type": "markdown",
   "metadata": {},
   "source": [
    "I'll do the same with the tornado data."
   ]
  },
  {
   "cell_type": "code",
   "execution_count": null,
   "metadata": {},
   "outputs": [],
   "source": [
    "tcalls_by_neighborhood = gpd.sjoin(tornado_calls_geo, neighborhoods, op = 'within')"
   ]
  },
  {
   "cell_type": "code",
   "execution_count": null,
   "metadata": {},
   "outputs": [],
   "source": [
    "tcalls_by_neighborhood.head()"
   ]
  },
  {
   "cell_type": "code",
   "execution_count": null,
   "metadata": {},
   "outputs": [],
   "source": [
    "tcomp_by_neighborhood = gpd.sjoin(tornado_computer_geo, neighborhoods, op = 'within', how = 'left')"
   ]
  },
  {
   "cell_type": "code",
   "execution_count": null,
   "metadata": {},
   "outputs": [],
   "source": [
    "tcomp_by_neighborhood.head()"
   ]
  },
  {
   "cell_type": "code",
   "execution_count": null,
   "metadata": {},
   "outputs": [],
   "source": [
    "map_neighborhoodst = folium.Map(location =  center, zoom_start = 12)\n",
    "\n",
    "folium.GeoJson(neighborhoods).add_to(map_neighborhoodst)\n",
    "\n",
    "# Plotting the tornado calls in blue\n",
    "for row_index, row_values in tcalls_by_neighborhood.iterrows():\n",
    "    loc = [row_values['ALI Latitude'], row_values['ALI Longitude']]\n",
    "    pop = row_values['Seizure DateTime'], row_values['Cell Tower Address'], row_values['name']\n",
    "    icon = folium.Icon(color = 'blue', icon = 'phone-square', prefix = 'fa')\n",
    "    marker1 = folium.Marker(\n",
    "        location = loc, \n",
    "        popup = pop, icon = icon)\n",
    "    \n",
    "    marker1.add_to(map_neighborhoodst)\n",
    "    \n",
    "# Plotting the tornado dispatches in orange\n",
    "for row_index, row_values in tcomp_by_neighborhood.iterrows():\n",
    "    loc = [row_values['Latitude1'], row_values['Longitude1']]\n",
    "    pop = row_values['IncidentDate'], row_values['IncidentTypeDescription1']#, row_values['name']\n",
    "    icon = folium.Icon(color = 'orange', icon = 'phone', prefix = 'fa')\n",
    "    marker2 = folium.Marker(\n",
    "        location = loc, \n",
    "        popup = pop, icon = icon)\n",
    "    \n",
    "    marker2.add_to(map_neighborhoodst)\n",
    "    \n",
    "map_neighborhoodst.save('../maps/mapdcalls.html')\n",
    "\n",
    "map_neighborhoodst"
   ]
  },
  {
   "cell_type": "code",
   "execution_count": null,
   "metadata": {},
   "outputs": [],
   "source": []
  }
 ],
 "metadata": {
  "kernelspec": {
   "display_name": "Python 3",
   "language": "python",
   "name": "python3"
  },
  "language_info": {
   "codemirror_mode": {
    "name": "ipython",
    "version": 3
   },
   "file_extension": ".py",
   "mimetype": "text/x-python",
   "name": "python",
   "nbconvert_exporter": "python",
   "pygments_lexer": "ipython3",
   "version": "3.8.5"
  }
 },
 "nbformat": 4,
 "nbformat_minor": 4
}
